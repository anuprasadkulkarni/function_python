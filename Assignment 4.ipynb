{
 "cells": [
  {
   "cell_type": "code",
   "execution_count": 1,
   "id": "743277ae",
   "metadata": {},
   "outputs": [
    {
     "name": "stdout",
     "output_type": "stream",
     "text": [
      "Enter the First numbers :7894\n",
      "Enter the Second number :4561\n",
      "Enter the Third number :2458\n",
      "The maximum number among these numbe is 7894\n"
     ]
    }
   ],
   "source": [
    "#Functions\n",
    "#Please write Python Programs for all the problems.\n",
    "#1.\t Write a Python function to find the Max of three numbers.\n",
    "def max_numbers(a,b,c):\n",
    "    if a>b and a>c:\n",
    "        return a\n",
    "    elif b>a and b>c:\n",
    "        return b\n",
    "    else:\n",
    "        return c\n",
    "num1=int(input(\"Enter the First numbers :\"))\n",
    "num2=int(input(\"Enter the Second number :\"))\n",
    "num3=int(input(\"Enter the Third number :\"))\n",
    "max_no=max_numbers(num1,num2,num3)\n",
    "print(\"The maximum number among these numbe is\", max_no)\n",
    "            \n",
    "            \n",
    "    \n",
    "\n"
   ]
  },
  {
   "cell_type": "code",
   "execution_count": 2,
   "id": "304e15e7",
   "metadata": {},
   "outputs": [
    {
     "name": "stdout",
     "output_type": "stream",
     "text": [
      "Enter the length of the list3\n",
      "Enter the numbers2\n",
      "Enter the numbers2\n",
      "Enter the numbers5\n",
      "The sum of all the numbers is : 9\n"
     ]
    }
   ],
   "source": [
    "#2.\t Write a Python function to sum all the numbers in a list.\n",
    "def sum_num(empty_list):\n",
    "    sum=0\n",
    "    for i in empty_list:\n",
    "        sum +=i\n",
    "    return sum\n",
    "num = int(input(\"Enter the length of the list\"))\n",
    "my_list2=[]\n",
    "for j in range(num):\n",
    "    numbers=int(input(\"Enter the numbers\"))\n",
    "    my_list2.append(numbers)\n",
    "print(\"The sum of all the numbers is :\", sum_num(my_list2))\n"
   ]
  },
  {
   "cell_type": "code",
   "execution_count": 4,
   "id": "154e7839",
   "metadata": {},
   "outputs": [
    {
     "name": "stdout",
     "output_type": "stream",
     "text": [
      "Enter the length of the number5\n",
      "Enter the number2\n",
      "Enter the number5\n",
      "Enter the number6\n",
      "Enter the number8\n",
      "Enter the number9\n",
      "The multiplication of number is : 4320\n"
     ]
    }
   ],
   "source": [
    "#3.\t Write a Python function to multiply all the numbers in a list.\n",
    "def multiplication_num(temp_list):\n",
    "    mul = 1\n",
    "    for i in temp_list:\n",
    "        mul*=i\n",
    "    return mul\n",
    "number=int(input(\"Enter the length of the number\"))\n",
    "my_list=[]\n",
    "for j in range(number):\n",
    "    number1=int(input(\"Enter the number\"))\n",
    "    my_list.append(number1)\n",
    "print(\"The multiplication of number is :\",multiplication_num(my_list))\n",
    "\n",
    "    \n",
    "\n"
   ]
  },
  {
   "cell_type": "code",
   "execution_count": null,
   "id": "2b7c8aff",
   "metadata": {},
   "outputs": [],
   "source": []
  },
  {
   "cell_type": "code",
   "execution_count": null,
   "id": "82b76260",
   "metadata": {},
   "outputs": [],
   "source": []
  }
 ],
 "metadata": {
  "kernelspec": {
   "display_name": "Python 3 (ipykernel)",
   "language": "python",
   "name": "python3"
  },
  "language_info": {
   "codemirror_mode": {
    "name": "ipython",
    "version": 3
   },
   "file_extension": ".py",
   "mimetype": "text/x-python",
   "name": "python",
   "nbconvert_exporter": "python",
   "pygments_lexer": "ipython3",
   "version": "3.11.4"
  }
 },
 "nbformat": 4,
 "nbformat_minor": 5
}
